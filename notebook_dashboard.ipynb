{
 "cells": [
  {
   "cell_type": "code",
   "execution_count": 303,
   "metadata": {},
   "outputs": [],
   "source": [
    "import datetime as dt \n",
    "from datetime import datetime,timedelta  # calculating time until expiration\n",
    "import pandas_datareader as pdr\n",
    "import numpy as np  # performing numerical methods\n",
    "import pandas as pd  # printing dataframes\n",
    "import yfinance as yf # retrieving financial data\n"
   ]
  },
  {
   "cell_type": "code",
   "execution_count": 367,
   "metadata": {},
   "outputs": [],
   "source": [
    "\n",
    "# parent/super class\n",
    "\"\"\"\n",
    "Pricing of stock futures and construction of a portfolio containing both underlying equity\n",
    "and futures as a hedge.\n",
    "\n",
    "Attributes\n",
    "++++++++++++++++++++++++++++++++++++++++++++++++++++++++++++++++\n",
    "\n",
    "ticker: str\n",
    "    ticker of underlying stock\n",
    "\n",
    "spot_price: float\n",
    "    spot price of underlying stock, in united states dollars $\n",
    "\n",
    "initial_time: str\n",
    "    current date\n",
    "\n",
    "final_time: str\n",
    "    expiration date\n",
    "\n",
    "dividend: float\n",
    "    dividend yield, in percentage %, default = 0.00%\n",
    "\n",
    "risk_tolerance: float\n",
    "    risk tolerance, in percentage %, default = 0.00%\n",
    "\n",
    "cap: float\n",
    "    user capital, in united states dollars $, default = $10,000\n",
    "\n",
    "shares: float\n",
    "    user position in underlying stock, in united states dollars $, default = 100 * s\n",
    "year_time: date\n",
    "    proportion of diff in time \n",
    "liquid: float\n",
    "    Liquid/capital money (user inputted)\n",
    "    \n",
    "\n",
    "\"\"\"\n",
    "\n",
    "class Edward_Dashboard:\n",
    "    def __init__(self, ticker: str, final_time: str, r_tol: float = 0.00, cap: float = 10000, shares: float = 10):\n",
    "        assert (1 <= len(ticker) <= 5),  'ticker symbol must have between one and five characters'\n",
    "        assert r_tol >= 0, 'risk tolerance cannot be less than 0.00%'\n",
    "        assert cap >= 10000,  'user must have at least $10,000 in capital'\n",
    "        assert shares >= 0.00, 'user must have at least 100 shares in underlying equity'\n",
    "        self.ticker_symbol = ticker.upper()\n",
    "        # ticker symbol(user inputted )\n",
    "        self.ticker = yf.Ticker(ticker.upper()).info\n",
    "        self.tickerObj =yf.Ticker(ticker.upper())\n",
    "        # spot price\n",
    "        s = float(self.ticker['regularMarketPrice'])\n",
    "        assert s >= 0.00,  'stock price cannot be less than $0.00, cannot use this stock'\n",
    "        self.spot_price = s\n",
    "    \n",
    "        # intial time(not user inputted )\n",
    "        current_date = datetime.now()\n",
    "        self.today_time_str = f\"{current_date.year}-{current_date.month}-{current_date.day}\"\n",
    "        self.initial_time = datetime.strptime(self.today_time_str, \"%Y-%m-%d\")\n",
    "        # final time(user inputted)\n",
    "        self.final_time = datetime.strptime(final_time, \"%Y-%m-%d\")\n",
    "        # porpotion of diff in time\n",
    "        print(self.final_time- self.initial_time)\n",
    "        self.year_time = (self.final_time - self.initial_time).days/365\n",
    "        # risk tolerance\n",
    "        self.risk_tolerance = float(r_tol)\n",
    "                # total value of shares (user inputted)\n",
    "        self.shares = float(shares * self.spot_price)\n",
    "        #total capital\n",
    "        self.cap = float(cap)\n",
    "    def get_historical_data(self):\n",
    "        temp_csv_str = f\"{self.ticker_symbol}.csv\"\n",
    "        temp_csv = self.tickerObj.history(period =\"max\").to_csv(temp_csv_str)\n",
    "        new_history_df = pd.read_csv(temp_csv_str)\n",
    "        historical_data_close= new_history_df[[\"Date\",\"Close\"]]\n",
    "        return historical_data_close\n",
    "    def div_rate(self):\n",
    "        #annual dividend yield\n",
    "        #this is the dividend rate from the info of the function\n",
    "        #this is the dividend rate from the most recent year\n",
    "        dividend_list = self.tickerObj.dividends.to_list()\n",
    "        if len(dividend_list) != 0:\n",
    "            return dividend_list[-1] * 4/self.spot_price\n",
    "        return 0 \n",
    "        \n",
    "    def risk_free_rate(self): # calculate risk-free rate of return\n",
    "        rates = pd.read_csv('rates.csv')\n",
    "\n",
    "        if 0 < self.year_time <= 1 / 12:\n",
    "            nominal = rates['1 Mo'].mean()\n",
    "        elif 1 / 12 < self.year_time <= 1 / 6:\n",
    "            nominal = rates['2 Mo'].mean()\n",
    "        elif 1 / 6 < self.year_time <= 1 / 4:\n",
    "            nominal = rates['3 Mo'].mean()\n",
    "        elif 1 / 4 < self.year_time <= 1 / 3:\n",
    "            nominal = rates['4 Mo'].mean()\n",
    "        elif 1 / 3 < self.year_time <= 1 / 2:\n",
    "            nominal = rates['6 Mo'].mean()\n",
    "        elif 1 /  2 < self.year_time <= 1:\n",
    "            nominal = rates['1 Yr'].mean()\n",
    "        elif 1 < self.year_time<= 2:\n",
    "            nominal = rates['2 Yr'].mean()\n",
    "        elif 2 < self.year_time <= 3:\n",
    "            nominal = rates['3 Yr'].mean()\n",
    "        elif 3 < self.year_time <= 5:\n",
    "            nominal = rates['5 Yr'].mean()\n",
    "        elif 5 < self.year_time <= 7:\n",
    "            nominal = rates['7 Yr'].mean()\n",
    "        elif 7 < self.year_time <= 10:\n",
    "            nominal = rates['10 Yr'].mean()\n",
    "        elif 10 < self.year_time <= 20:\n",
    "            nominal = rates['20 Yr'].mean()\n",
    "        elif 20 < self.year_time <= 30:\n",
    "            nominal = rates['30 Yr'].mean()\n",
    "\n",
    "        return (1 + nominal) / (1 + 0.077) - 1\n",
    "\n",
    "    def benchmark_rate(self): # calculate performance of a benchmark\n",
    "        # set the S&P as the default benchmark\n",
    "        \n",
    "        #initial time time - (difference)\n",
    "        days_elapsed = self.final_time - self.initial_time\n",
    "        beg = self.initial_time -timedelta(days_elapsed.days)\n",
    "        actual_date = f\"{beg.year}-{beg.month}-{beg.day}\"        \n",
    "        hist_table = yf.download('^GSPC', start = actual_date ,end = self.today_time_str )\n",
    "        hist_table_close = hist_table[\"Close\"]\n",
    "        print(hist_table_close)\n",
    "        hist_table_close_list = hist_table_close.to_list()\n",
    "        final = 1 +(hist_table_close_list[-1] - hist_table_close_list[0])/hist_table_close_list[0]\n",
    "        return final\n",
    "        \n",
    "\n",
    "    def pricing(self,time:float  = 1/52, price: float = .050): # pricing of a singular futures contract on underlying equity\n",
    "        if self.div_rate() is None:\n",
    "            div_rate = 0\n",
    "        else:\n",
    "            div_rate = self.div_rate()\n",
    "            \n",
    "        l = self.risk_free_rate() - div_rate\n",
    "            \n",
    "        return price * np.e**(l * time)\n",
    "\n",
    "    def beta(self): # covariance function\n",
    "        #get the historical data beginning to end\n",
    "        end = dt.datetime.now()\n",
    "        start = dt.date(end.year -5,end.month,end.day)\n",
    "        tickers = [ self.ticker_symbol,\"^GSPC\"]\n",
    "        data = pdr.get_data_yahoo(tickers, start, end, interval = \"m\")\n",
    "        data =data[\"Adj Close\"]\n",
    "        log_returns =np.log(data/data.shift())\n",
    "        cov =log_returns.cov()\n",
    "        var =log_returns[\"^GSPC\"].var()\n",
    "        return cov.loc[self.ticker_symbol,'^GSPC']/var\n",
    "    \n",
    "\n",
    "        \n",
    "        '''historical_data = self.get_historical_data()\n",
    "        hist_price = [price for price in historical_data[\"Close\"]]\n",
    "        future_price = []\n",
    "        for i in range(len(hist_price)):\n",
    "            future_price.append(self.pricing(time = 1/52, price = hist_price[i]))\n",
    "        return np.cov(hist_price,future_price)[0,1]'''\n",
    "            \n",
    "\n",
    "\n",
    "    def expected_return(self): # calculate the expected return (w/ respect to a benchmark)\n",
    "        return float(self.risk_free_rate() + self.beta()*(self.benchmark_rate() - self.risk_free_rate()))\n",
    "\n",
    "    def Ideal_contractNum(self): # calculate the ideal number of futures contracts on the underlying equity\n",
    "        return float(self.beta() * self.shares / self.pricing(self.year_time,self.spot_price))\n",
    "\n",
    "    def portfolio(self): # construct an ideal portfolio, containing the user's existing\n",
    "        # position in the underlying equity and n futures contracts\n",
    "        data = [(\"stock\", self.shares / self.spot_price, \"$\" + str(self.shares)),\n",
    "                    (\"futures\", self.Ideal_contractNum(), \"$\" + str(self.Ideal_contractNum() * self.pricing(self.year_time,self.spot_price)))]\n",
    "\n",
    "        portfolio = pd.DataFrame(data, columns = [\"Instrument\", \" Qty\", \"Value\"])\n",
    "\n",
    "        return portfolio\n",
    "\n",
    "    def basis_risk(self): # calculate basis risk of portfolio\n",
    "        return float(self.spot_price - self.pricing(self.year_time,self.spot_price))\n",
    "\n",
    "    def metrics(self): # calculate performance & risk metric of portfolio\n",
    "        \"\"\"\"\n",
    "            add implementation\n",
    "        \"\"\"\n",
    "        pass;\n",
    "\n",
    "    def _str_(self):\n",
    "        return f\"risk-free-rate{self.risk_free_rate()}, benchmark rate {self.benchmark_rate()}, pricing {self.pricing(self.year_time,self.spot_price)}, beta {self.beta()}, expect_return {self.expected_return()}, number of future contracts (100 share per contract) {self.n()}, protfolio {self.portfolio()}, basis risk {self.basis_risk()}, metrics {self.metrics()}\"\n",
    "        pass\n",
    "\n"
   ]
  },
  {
   "cell_type": "code",
   "execution_count": 368,
   "metadata": {},
   "outputs": [
    {
     "name": "stdout",
     "output_type": "stream",
     "text": [
      "3 days, 0:00:00\n"
     ]
    }
   ],
   "source": [
    "msft= Edward_Dashboard(\"msft\",\"2022-11-30\",r_tol = .05)\n"
   ]
  },
  {
   "cell_type": "code",
   "execution_count": 369,
   "metadata": {},
   "outputs": [
    {
     "data": {
      "text/html": [
       "<div>\n",
       "<style scoped>\n",
       "    .dataframe tbody tr th:only-of-type {\n",
       "        vertical-align: middle;\n",
       "    }\n",
       "\n",
       "    .dataframe tbody tr th {\n",
       "        vertical-align: top;\n",
       "    }\n",
       "\n",
       "    .dataframe thead th {\n",
       "        text-align: right;\n",
       "    }\n",
       "</style>\n",
       "<table border=\"1\" class=\"dataframe\">\n",
       "  <thead>\n",
       "    <tr style=\"text-align: right;\">\n",
       "      <th></th>\n",
       "      <th>Date</th>\n",
       "      <th>Close</th>\n",
       "    </tr>\n",
       "  </thead>\n",
       "  <tbody>\n",
       "    <tr>\n",
       "      <th>0</th>\n",
       "      <td>1986-03-13 00:00:00-05:00</td>\n",
       "      <td>0.060809</td>\n",
       "    </tr>\n",
       "    <tr>\n",
       "      <th>1</th>\n",
       "      <td>1986-03-14 00:00:00-05:00</td>\n",
       "      <td>0.062980</td>\n",
       "    </tr>\n",
       "    <tr>\n",
       "      <th>2</th>\n",
       "      <td>1986-03-17 00:00:00-05:00</td>\n",
       "      <td>0.064067</td>\n",
       "    </tr>\n",
       "    <tr>\n",
       "      <th>3</th>\n",
       "      <td>1986-03-18 00:00:00-05:00</td>\n",
       "      <td>0.062437</td>\n",
       "    </tr>\n",
       "    <tr>\n",
       "      <th>4</th>\n",
       "      <td>1986-03-19 00:00:00-05:00</td>\n",
       "      <td>0.061351</td>\n",
       "    </tr>\n",
       "    <tr>\n",
       "      <th>...</th>\n",
       "      <td>...</td>\n",
       "      <td>...</td>\n",
       "    </tr>\n",
       "    <tr>\n",
       "      <th>9248</th>\n",
       "      <td>2022-11-18 00:00:00-05:00</td>\n",
       "      <td>241.220001</td>\n",
       "    </tr>\n",
       "    <tr>\n",
       "      <th>9249</th>\n",
       "      <td>2022-11-21 00:00:00-05:00</td>\n",
       "      <td>242.050003</td>\n",
       "    </tr>\n",
       "    <tr>\n",
       "      <th>9250</th>\n",
       "      <td>2022-11-22 00:00:00-05:00</td>\n",
       "      <td>245.029999</td>\n",
       "    </tr>\n",
       "    <tr>\n",
       "      <th>9251</th>\n",
       "      <td>2022-11-23 00:00:00-05:00</td>\n",
       "      <td>247.580002</td>\n",
       "    </tr>\n",
       "    <tr>\n",
       "      <th>9252</th>\n",
       "      <td>2022-11-25 00:00:00-05:00</td>\n",
       "      <td>247.490005</td>\n",
       "    </tr>\n",
       "  </tbody>\n",
       "</table>\n",
       "<p>9253 rows × 2 columns</p>\n",
       "</div>"
      ],
      "text/plain": [
       "                           Date       Close\n",
       "0     1986-03-13 00:00:00-05:00    0.060809\n",
       "1     1986-03-14 00:00:00-05:00    0.062980\n",
       "2     1986-03-17 00:00:00-05:00    0.064067\n",
       "3     1986-03-18 00:00:00-05:00    0.062437\n",
       "4     1986-03-19 00:00:00-05:00    0.061351\n",
       "...                         ...         ...\n",
       "9248  2022-11-18 00:00:00-05:00  241.220001\n",
       "9249  2022-11-21 00:00:00-05:00  242.050003\n",
       "9250  2022-11-22 00:00:00-05:00  245.029999\n",
       "9251  2022-11-23 00:00:00-05:00  247.580002\n",
       "9252  2022-11-25 00:00:00-05:00  247.490005\n",
       "\n",
       "[9253 rows x 2 columns]"
      ]
     },
     "execution_count": 369,
     "metadata": {},
     "output_type": "execute_result"
    }
   ],
   "source": [
    "msft.get_historical_data()"
   ]
  },
  {
   "cell_type": "code",
   "execution_count": 370,
   "metadata": {},
   "outputs": [
    {
     "data": {
      "text/plain": [
       "-2.4583113159337415"
      ]
     },
     "execution_count": 370,
     "metadata": {},
     "output_type": "execute_result"
    }
   ],
   "source": [
    "msft.basis_risk()"
   ]
  },
  {
   "cell_type": "code",
   "execution_count": 371,
   "metadata": {},
   "outputs": [
    {
     "data": {
      "text/plain": [
       "1.2135393690366656"
      ]
     },
     "execution_count": 371,
     "metadata": {},
     "output_type": "execute_result"
    }
   ],
   "source": [
    "msft.risk_free_rate()"
   ]
  },
  {
   "cell_type": "code",
   "execution_count": 372,
   "metadata": {},
   "outputs": [
    {
     "data": {
      "text/plain": [
       "1.0990343044163402"
      ]
     },
     "execution_count": 372,
     "metadata": {},
     "output_type": "execute_result"
    }
   ],
   "source": [
    "msft.div_rate()*100"
   ]
  },
  {
   "cell_type": "code",
   "execution_count": 373,
   "metadata": {},
   "outputs": [
    {
     "data": {
      "text/plain": [
       "9.015448387842325"
      ]
     },
     "execution_count": 373,
     "metadata": {},
     "output_type": "execute_result"
    }
   ],
   "source": [
    "msft.Ideal_contractNum()"
   ]
  },
  {
   "cell_type": "code",
   "execution_count": 374,
   "metadata": {},
   "outputs": [
    {
     "name": "stdout",
     "output_type": "stream",
     "text": [
      "[*********************100%***********************]  1 of 1 completed\n",
      "Date\n",
      "2022-11-25    4026.120117\n",
      "Name: Close, dtype: float64\n"
     ]
    },
    {
     "data": {
      "text/plain": [
       "1.0191117805072922"
      ]
     },
     "execution_count": 374,
     "metadata": {},
     "output_type": "execute_result"
    }
   ],
   "source": [
    "msft.expected_return()"
   ]
  },
  {
   "cell_type": "code",
   "execution_count": 375,
   "metadata": {},
   "outputs": [
    {
     "data": {
      "text/html": [
       "<div>\n",
       "<style scoped>\n",
       "    .dataframe tbody tr th:only-of-type {\n",
       "        vertical-align: middle;\n",
       "    }\n",
       "\n",
       "    .dataframe tbody tr th {\n",
       "        vertical-align: top;\n",
       "    }\n",
       "\n",
       "    .dataframe thead th {\n",
       "        text-align: right;\n",
       "    }\n",
       "</style>\n",
       "<table border=\"1\" class=\"dataframe\">\n",
       "  <thead>\n",
       "    <tr style=\"text-align: right;\">\n",
       "      <th></th>\n",
       "      <th>Instrument</th>\n",
       "      <th>Qty</th>\n",
       "      <th>Value</th>\n",
       "    </tr>\n",
       "  </thead>\n",
       "  <tbody>\n",
       "    <tr>\n",
       "      <th>0</th>\n",
       "      <td>stock</td>\n",
       "      <td>10.000000</td>\n",
       "      <td>$2474.9</td>\n",
       "    </tr>\n",
       "    <tr>\n",
       "      <th>1</th>\n",
       "      <td>futures</td>\n",
       "      <td>9.015448</td>\n",
       "      <td>$2253.396687373613</td>\n",
       "    </tr>\n",
       "  </tbody>\n",
       "</table>\n",
       "</div>"
      ],
      "text/plain": [
       "  Instrument        Qty               Value\n",
       "0      stock  10.000000             $2474.9\n",
       "1    futures   9.015448  $2253.396687373613"
      ]
     },
     "execution_count": 375,
     "metadata": {},
     "output_type": "execute_result"
    }
   ],
   "source": [
    "msft.portfolio()"
   ]
  },
  {
   "cell_type": "code",
   "execution_count": 378,
   "metadata": {},
   "outputs": [
    {
     "data": {
      "text/plain": [
       "-2.4583113159337415"
      ]
     },
     "execution_count": 378,
     "metadata": {},
     "output_type": "execute_result"
    }
   ],
   "source": [
    "msft.basis_risk()"
   ]
  },
  {
   "cell_type": "code",
   "execution_count": 379,
   "metadata": {},
   "outputs": [
    {
     "data": {
      "text/plain": [
       "249.94831131593375"
      ]
     },
     "execution_count": 379,
     "metadata": {},
     "output_type": "execute_result"
    }
   ],
   "source": [
    "msft.pricing(msft.year_time,msft.spot_price)\n"
   ]
  },
  {
   "cell_type": "code",
   "execution_count": null,
   "metadata": {},
   "outputs": [],
   "source": []
  }
 ],
 "metadata": {
  "kernelspec": {
   "display_name": "Python 3 (ipykernel)",
   "language": "python",
   "name": "python3"
  },
  "language_info": {
   "codemirror_mode": {
    "name": "ipython",
    "version": 3
   },
   "file_extension": ".py",
   "mimetype": "text/x-python",
   "name": "python",
   "nbconvert_exporter": "python",
   "pygments_lexer": "ipython3",
   "version": "3.9.13"
  }
 },
 "nbformat": 4,
 "nbformat_minor": 1
}
