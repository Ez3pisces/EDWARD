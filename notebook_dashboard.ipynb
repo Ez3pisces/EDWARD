{
 "cells": [
  {
   "cell_type": "code",
   "execution_count": 297,
   "metadata": {},
   "outputs": [],
   "source": [
    "import datetime as dt \n",
    "from datetime import datetime,timedelta  # calculating time until expiration\n",
    "import pandas_datareader as pdr\n",
    "import numpy as np  # performing numerical methods\n",
    "import pandas as pd  # printing dataframes\n",
    "import yfinance as yf # retrieving financial data\n"
   ]
  },
  {
   "cell_type": "code",
   "execution_count": 298,
   "metadata": {},
   "outputs": [],
   "source": [
    "\n",
    "# parent/super class\n",
    "\"\"\"\n",
    "Pricing of stock futures and construction of a portfolio containing both underlying equity\n",
    "and futures as a hedge.\n",
    "\n",
    "Attributes\n",
    "++++++++++++++++++++++++++++++++++++++++++++++++++++++++++++++++\n",
    "\n",
    "ticker: str\n",
    "    ticker of underlying stock\n",
    "\n",
    "spot_price: float\n",
    "    spot price of underlying stock, in united states dollars $\n",
    "\n",
    "initial_time: str\n",
    "    current date\n",
    "\n",
    "final_time: str\n",
    "    expiration date\n",
    "\n",
    "dividend: float\n",
    "    dividend yield, in percentage %, default = 0.00%\n",
    "\n",
    "risk_tolerance: float\n",
    "    risk tolerance, in percentage %, default = 0.00%\n",
    "\n",
    "cap: float\n",
    "    user capital, in united states dollars $, default = $10,000\n",
    "\n",
    "shares: float\n",
    "    user position in underlying stock, in united states dollars $, default = 100 * s\n",
    "year_time: date\n",
    "    proportion of diff in time \n",
    "liquid: float\n",
    "    Liquid/capital money (user inputted)\n",
    "    \n",
    "\n",
    "\"\"\"\n",
    "\n",
    "class Edward_Dashboard:\n",
    "    def __init__(self, ticker: str, final_time: str, r_tol: float = 0.00, cap: float = 10000, shares: float = 10):\n",
    "        assert (1 <= len(ticker) <= 5),  'ticker symbol must have between one and five characters'\n",
    "        assert r_tol >= 0, 'risk tolerance cannot be less than 0.00%'\n",
    "        assert cap >= 10000,  'user must have at least $10,000 in capital'\n",
    "        assert shares >= 0.00, 'user must have at least 100 shares in underlying equity'\n",
    "        self.ticker_symbol = ticker.upper()\n",
    "        # ticker symbol(user inputted )\n",
    "        self.ticker = yf.Ticker(ticker.upper()).info\n",
    "        self.tickerObj =yf.Ticker(ticker.upper())\n",
    "        # spot price\n",
    "        s = float(self.ticker['regularMarketPrice'])\n",
    "        assert s >= 0.00,  'stock price cannot be less than $0.00, cannot use this stock'\n",
    "        self.spot_price = s\n",
    "    \n",
    "        # intial time(not user inputted )\n",
    "        current_date = datetime.now()\n",
    "        self.today_time_str = f\"{current_date.year}-{current_date.month}-{current_date.day}\"\n",
    "        self.initial_time = datetime.strptime(self.today_time_str, \"%Y-%m-%d\")\n",
    "        # final time(user inputted)\n",
    "        self.final_time = datetime.strptime(final_time, \"%Y-%m-%d\")\n",
    "        # porpotion of diff in time\n",
    "        print(self.final_time- self.initial_time)\n",
    "        self.year_time = (self.final_time - self.initial_time).days/365\n",
    "        # risk tolerance\n",
    "        self.risk_tolerance = float(r_tol)\n",
    "                # total value of shares (user inputted)\n",
    "        self.shares = float(shares * self.spot_price)\n",
    "        #total capital\n",
    "        self.cap = float(cap)\n",
    "    def get_historical_data(self):\n",
    "        temp_csv_str = f\"{self.ticker_symbol}.csv\"\n",
    "        temp_csv = self.tickerObj.history(period =\"max\").to_csv(temp_csv_str)\n",
    "        new_history_df = pd.read_csv(temp_csv_str)\n",
    "        historical_data_close= new_history_df[[\"Date\",\"Close\"]]\n",
    "        return historical_data_close\n",
    "    def div_rate(self):\n",
    "        #annual dividend yield\n",
    "        #this is the dividend rate from the info of the function\n",
    "        #this is the dividend rate from the most recent year\n",
    "        dividend_list = self.tickerObj.dividends.to_list()\n",
    "        if len(dividend_list) != 0:\n",
    "            return dividend_list[-1] * 4/self.spot_price\n",
    "        return 0 \n",
    "        \n",
    "    def risk_free_rate(self): # calculate risk-free rate of return\n",
    "        rates = pd.read_csv('rates.csv')\n",
    "        print(rates)\n",
    "\n",
    "        if 0 < self.year_time <= 1 / 12:\n",
    "            nominal = rates['1 Mo'].mean()\n",
    "        elif 1 / 12 < self.year_time <= 1 / 6:\n",
    "            nominal = rates['2 Mo'].mean()\n",
    "        elif 1 / 6 < self.year_time <= 1 / 4:\n",
    "            nominal = rates['3 Mo'].mean()\n",
    "        elif 1 / 4 < self.year_time <= 1 / 3:\n",
    "            nominal = rates['4 Mo'].mean()\n",
    "        elif 1 / 3 < self.year_time <= 1 / 2:\n",
    "            nominal = rates['6 Mo'].mean()\n",
    "        elif 1 /  2 < self.year_time <= 1:\n",
    "            nominal = rates['1 Yr'].mean()\n",
    "        elif 1 < self.year_time<= 2:\n",
    "            nominal = rates['2 Yr'].mean()\n",
    "        elif 2 < self.year_time <= 3:\n",
    "            nominal = rates['3 Yr'].mean()\n",
    "        elif 3 < self.year_time <= 5:\n",
    "            nominal = rates['5 Yr'].mean()\n",
    "        elif 5 < self.year_time <= 7:\n",
    "            nominal = rates['7 Yr'].mean()\n",
    "        elif 7 < self.year_time <= 10:\n",
    "            nominal = rates['10 Yr'].mean()\n",
    "        elif 10 < self.year_time <= 20:\n",
    "            nominal = rates['20 Yr'].mean()\n",
    "        elif 20 < self.year_time <= 30:\n",
    "            nominal = rates['30 Yr'].mean()\n",
    "\n",
    "        return (1 + nominal) / (1 + 0.077) - 1\n",
    "\n",
    "    def benchmark_rate(self): # calculate performance of a benchmark\n",
    "        # set the S&P as the default benchmark\n",
    "        \n",
    "        #initial time time - (difference)\n",
    "        days_elapsed = self.final_time - self.initial_time\n",
    "        beg = self.initial_time -timedelta(days_elapsed.days)\n",
    "        actual_date = f\"{beg.year}-{beg.month}-{beg.day}\"        \n",
    "        hist_table = yf.download('^GSPC', start = actual_date ,end = self.today_time_str )\n",
    "        hist_table_close = hist_table[\"Close\"]\n",
    "        print(hist_table_close)\n",
    "        hist_table_close_list = hist_table_close.to_list()\n",
    "        final = 1 +(hist_table_close_list[-1] - hist_table_close_list[0])/hist_table_close_list[0]\n",
    "        return final\n",
    "        \n",
    "\n",
    "    def pricing(self,time:float  = 1/52, price: float = .050): # pricing of a singular futures contract on underlying equity\n",
    "        if self.div_rate() is None:\n",
    "            div_rate = 0\n",
    "        else:\n",
    "            div_rate = self.div_rate()\n",
    "            \n",
    "        l = self.risk_free_rate() - div_rate\n",
    "            \n",
    "        return price * np.e**(l * time)\n",
    "\n",
    "    def beta(self): # covariance function\n",
    "        #get the historical data beginning to end\n",
    "        end = dt.datetime.now()\n",
    "        start = dt.date(end.year -5,end.month,end.day)\n",
    "        tickers = [ self.ticker_symbol,\"^GSPC\"]\n",
    "        data = pdr.get_data_yahoo(tickers, start, end, interval = \"m\")\n",
    "        data =data[\"Adj Close\"]\n",
    "        log_returns =np.log(data/data.shift())\n",
    "        cov =log_returns.cov()\n",
    "        var =log_returns[\"^GSPC\"].var()\n",
    "        return cov.loc[self.ticker_symbol,'^GSPC']/var\n",
    "    \n",
    "\n",
    "        \n",
    "        '''historical_data = self.get_historical_data()\n",
    "        hist_price = [price for price in historical_data[\"Close\"]]\n",
    "        future_price = []\n",
    "        for i in range(len(hist_price)):\n",
    "            future_price.append(self.pricing(time = 1/52, price = hist_price[i]))\n",
    "        return np.cov(hist_price,future_price)[0,1]'''\n",
    "            \n",
    "\n",
    "\n",
    "    def expected_return(self): # calculate the expected return (w/ respect to a benchmark)\n",
    "        return float(self.risk_free_rate() + self.beta()*(self.benchmark_rate() - self.risk_free_rate()))\n",
    "\n",
    "    def n(self): # calculate the ideal number of futures contracts on the underlying equity\n",
    "        return float(self.beta() * self.shares / self.pricing(self.year_time,self.spot_price))\n",
    "\n",
    "    def portfolio(self): # construct an ideal portfolio, containing the user's existing\n",
    "        # position in the underlying equity and n futures contracts\n",
    "        data = [(\"stock\", self.shares / self.spot_price, \"$\" + str(self.shares)),\n",
    "                    (\"futures\", self.n(), \"$\" + str(self.n() * self.pricing(1/52,self.spot_price)))]\n",
    "\n",
    "        portfolio = pd.DataFrame(data, columns = [\"Instrument\", \" Qty\", \"Value\"])\n",
    "\n",
    "        return portfolio\n",
    "\n",
    "    def basis_risk(self): # calculate basis risk of portfolio\n",
    "        return float(self.n() * (self.spot_price - self.pricing(1/52,self.spot_price)))\n",
    "\n",
    "    def metrics(self): # calculate performance & risk metric of portfolio\n",
    "        \"\"\"\"\n",
    "            add implementation\n",
    "        \"\"\"\n",
    "        pass;\n",
    "\n",
    "    def _str_(self):\n",
    "        return f\"risk-free-rate{self.risk_free_rate()}, benchmark rate {self.benchmark_rate()}, pricing {self.pricing(self.year_time,self.spot_price)}, beta {self.beta()}, expect_return {self.expected_return()}, number of future contracts (100 share per contract) {self.n()}, protfolio {self.portfolio()}, basis risk {self.basis_risk()}, metrics {self.metrics()}\"\n",
    "        pass\n",
    "\n"
   ]
  },
  {
   "cell_type": "code",
   "execution_count": 299,
   "metadata": {},
   "outputs": [
    {
     "name": "stdout",
     "output_type": "stream",
     "text": [
      "3 days, 0:00:00\n"
     ]
    }
   ],
   "source": [
    "msft= Edward_Dashboard(\"msft\",\"2022-11-30\",r_tol = .05)\n"
   ]
  },
  {
   "cell_type": "code",
   "execution_count": 300,
   "metadata": {},
   "outputs": [
    {
     "data": {
      "text/plain": [
       "0.9104994163190797"
      ]
     },
     "execution_count": 300,
     "metadata": {},
     "output_type": "execute_result"
    }
   ],
   "source": [
    "msft.beta()"
   ]
  },
  {
   "cell_type": "code",
   "execution_count": 301,
   "metadata": {},
   "outputs": [
    {
     "name": "stdout",
     "output_type": "stream",
     "text": [
      "           Date  1 Mo  2 Mo  3 Mo  4 Mo  6 Mo  1 Yr  2 Yr  3 Yr  5 Yr  7 Yr  \\\n",
      "0    11/18/2022  3.93  4.23  4.34  4.46  4.61  4.74  4.51  4.28  3.99  3.92   \n",
      "1    11/17/2022  3.93  4.20  4.32  4.44  4.57  4.68  4.43  4.22  3.93  3.87   \n",
      "2    11/16/2022  3.81  4.15  4.32  4.43  4.54  4.62  4.35  4.13  3.83  3.77   \n",
      "3    11/15/2022  3.77  4.10  4.31  4.40  4.54  4.60  4.37  4.17  3.93  3.88   \n",
      "4    11/14/2022  3.72  4.05  4.34  4.38  4.55  4.63  4.40  4.24  4.00  3.95   \n",
      "..          ...   ...   ...   ...   ...   ...   ...   ...   ...   ...   ...   \n",
      "216    1/7/2022  0.05  0.05  0.10   NaN  0.24  0.43  0.87  1.17  1.50  1.69   \n",
      "217    1/6/2022  0.04  0.05  0.10   NaN  0.23  0.45  0.88  1.15  1.47  1.66   \n",
      "218    1/5/2022  0.05  0.06  0.09   NaN  0.22  0.41  0.83  1.10  1.43  1.62   \n",
      "219    1/4/2022  0.06  0.05  0.08   NaN  0.22  0.38  0.77  1.02  1.37  1.57   \n",
      "220    1/3/2022  0.05  0.06  0.08   NaN  0.22  0.40  0.78  1.04  1.37  1.55   \n",
      "\n",
      "     10 Yr  20 Yr  30 Yr  \n",
      "0     3.82   4.13   3.92  \n",
      "1     3.77   4.10   3.89  \n",
      "2     3.67   4.03   3.85  \n",
      "3     3.80   4.20   3.98  \n",
      "4     3.88   4.28   4.07  \n",
      "..     ...    ...    ...  \n",
      "216   1.76   2.15   2.11  \n",
      "217   1.73   2.12   2.09  \n",
      "218   1.71   2.12   2.09  \n",
      "219   1.66   2.10   2.07  \n",
      "220   1.63   2.05   2.01  \n",
      "\n",
      "[221 rows x 14 columns]\n"
     ]
    },
    {
     "data": {
      "text/plain": [
       "9.015447568558345"
      ]
     },
     "execution_count": 301,
     "metadata": {},
     "output_type": "execute_result"
    }
   ],
   "source": [
    "msft.n()"
   ]
  },
  {
   "cell_type": "code",
   "execution_count": 270,
   "metadata": {},
   "outputs": [
    {
     "name": "stdout",
     "output_type": "stream",
     "text": [
      "           Date  1 Mo  2 Mo  3 Mo  4 Mo  6 Mo  1 Yr  2 Yr  3 Yr  5 Yr  7 Yr  \\\n",
      "0    11/18/2022  3.93  4.23  4.34  4.46  4.61  4.74  4.51  4.28  3.99  3.92   \n",
      "1    11/17/2022  3.93  4.20  4.32  4.44  4.57  4.68  4.43  4.22  3.93  3.87   \n",
      "2    11/16/2022  3.81  4.15  4.32  4.43  4.54  4.62  4.35  4.13  3.83  3.77   \n",
      "3    11/15/2022  3.77  4.10  4.31  4.40  4.54  4.60  4.37  4.17  3.93  3.88   \n",
      "4    11/14/2022  3.72  4.05  4.34  4.38  4.55  4.63  4.40  4.24  4.00  3.95   \n",
      "..          ...   ...   ...   ...   ...   ...   ...   ...   ...   ...   ...   \n",
      "216    1/7/2022  0.05  0.05  0.10   NaN  0.24  0.43  0.87  1.17  1.50  1.69   \n",
      "217    1/6/2022  0.04  0.05  0.10   NaN  0.23  0.45  0.88  1.15  1.47  1.66   \n",
      "218    1/5/2022  0.05  0.06  0.09   NaN  0.22  0.41  0.83  1.10  1.43  1.62   \n",
      "219    1/4/2022  0.06  0.05  0.08   NaN  0.22  0.38  0.77  1.02  1.37  1.57   \n",
      "220    1/3/2022  0.05  0.06  0.08   NaN  0.22  0.40  0.78  1.04  1.37  1.55   \n",
      "\n",
      "     10 Yr  20 Yr  30 Yr  \n",
      "0     3.82   4.13   3.92  \n",
      "1     3.77   4.10   3.89  \n",
      "2     3.67   4.03   3.85  \n",
      "3     3.80   4.20   3.98  \n",
      "4     3.88   4.28   4.07  \n",
      "..     ...    ...    ...  \n",
      "216   1.76   2.15   2.11  \n",
      "217   1.73   2.12   2.09  \n",
      "218   1.71   2.12   2.09  \n",
      "219   1.66   2.10   2.07  \n",
      "220   1.63   2.05   2.01  \n",
      "\n",
      "[221 rows x 14 columns]\n",
      "           Date  1 Mo  2 Mo  3 Mo  4 Mo  6 Mo  1 Yr  2 Yr  3 Yr  5 Yr  7 Yr  \\\n",
      "0    11/18/2022  3.93  4.23  4.34  4.46  4.61  4.74  4.51  4.28  3.99  3.92   \n",
      "1    11/17/2022  3.93  4.20  4.32  4.44  4.57  4.68  4.43  4.22  3.93  3.87   \n",
      "2    11/16/2022  3.81  4.15  4.32  4.43  4.54  4.62  4.35  4.13  3.83  3.77   \n",
      "3    11/15/2022  3.77  4.10  4.31  4.40  4.54  4.60  4.37  4.17  3.93  3.88   \n",
      "4    11/14/2022  3.72  4.05  4.34  4.38  4.55  4.63  4.40  4.24  4.00  3.95   \n",
      "..          ...   ...   ...   ...   ...   ...   ...   ...   ...   ...   ...   \n",
      "216    1/7/2022  0.05  0.05  0.10   NaN  0.24  0.43  0.87  1.17  1.50  1.69   \n",
      "217    1/6/2022  0.04  0.05  0.10   NaN  0.23  0.45  0.88  1.15  1.47  1.66   \n",
      "218    1/5/2022  0.05  0.06  0.09   NaN  0.22  0.41  0.83  1.10  1.43  1.62   \n",
      "219    1/4/2022  0.06  0.05  0.08   NaN  0.22  0.38  0.77  1.02  1.37  1.57   \n",
      "220    1/3/2022  0.05  0.06  0.08   NaN  0.22  0.40  0.78  1.04  1.37  1.55   \n",
      "\n",
      "     10 Yr  20 Yr  30 Yr  \n",
      "0     3.82   4.13   3.92  \n",
      "1     3.77   4.10   3.89  \n",
      "2     3.67   4.03   3.85  \n",
      "3     3.80   4.20   3.98  \n",
      "4     3.88   4.28   4.07  \n",
      "..     ...    ...    ...  \n",
      "216   1.76   2.15   2.11  \n",
      "217   1.73   2.12   2.09  \n",
      "218   1.71   2.12   2.09  \n",
      "219   1.66   2.10   2.07  \n",
      "220   1.63   2.05   2.01  \n",
      "\n",
      "[221 rows x 14 columns]\n",
      "           Date  1 Mo  2 Mo  3 Mo  4 Mo  6 Mo  1 Yr  2 Yr  3 Yr  5 Yr  7 Yr  \\\n",
      "0    11/18/2022  3.93  4.23  4.34  4.46  4.61  4.74  4.51  4.28  3.99  3.92   \n",
      "1    11/17/2022  3.93  4.20  4.32  4.44  4.57  4.68  4.43  4.22  3.93  3.87   \n",
      "2    11/16/2022  3.81  4.15  4.32  4.43  4.54  4.62  4.35  4.13  3.83  3.77   \n",
      "3    11/15/2022  3.77  4.10  4.31  4.40  4.54  4.60  4.37  4.17  3.93  3.88   \n",
      "4    11/14/2022  3.72  4.05  4.34  4.38  4.55  4.63  4.40  4.24  4.00  3.95   \n",
      "..          ...   ...   ...   ...   ...   ...   ...   ...   ...   ...   ...   \n",
      "216    1/7/2022  0.05  0.05  0.10   NaN  0.24  0.43  0.87  1.17  1.50  1.69   \n",
      "217    1/6/2022  0.04  0.05  0.10   NaN  0.23  0.45  0.88  1.15  1.47  1.66   \n",
      "218    1/5/2022  0.05  0.06  0.09   NaN  0.22  0.41  0.83  1.10  1.43  1.62   \n",
      "219    1/4/2022  0.06  0.05  0.08   NaN  0.22  0.38  0.77  1.02  1.37  1.57   \n",
      "220    1/3/2022  0.05  0.06  0.08   NaN  0.22  0.40  0.78  1.04  1.37  1.55   \n",
      "\n",
      "     10 Yr  20 Yr  30 Yr  \n",
      "0     3.82   4.13   3.92  \n",
      "1     3.77   4.10   3.89  \n",
      "2     3.67   4.03   3.85  \n",
      "3     3.80   4.20   3.98  \n",
      "4     3.88   4.28   4.07  \n",
      "..     ...    ...    ...  \n",
      "216   1.76   2.15   2.11  \n",
      "217   1.73   2.12   2.09  \n",
      "218   1.71   2.12   2.09  \n",
      "219   1.66   2.10   2.07  \n",
      "220   1.63   2.05   2.01  \n",
      "\n",
      "[221 rows x 14 columns]\n"
     ]
    },
    {
     "data": {
      "text/html": [
       "<div>\n",
       "<style scoped>\n",
       "    .dataframe tbody tr th:only-of-type {\n",
       "        vertical-align: middle;\n",
       "    }\n",
       "\n",
       "    .dataframe tbody tr th {\n",
       "        vertical-align: top;\n",
       "    }\n",
       "\n",
       "    .dataframe thead th {\n",
       "        text-align: right;\n",
       "    }\n",
       "</style>\n",
       "<table border=\"1\" class=\"dataframe\">\n",
       "  <thead>\n",
       "    <tr style=\"text-align: right;\">\n",
       "      <th></th>\n",
       "      <th>Instrument</th>\n",
       "      <th>Qty</th>\n",
       "      <th>Value</th>\n",
       "    </tr>\n",
       "  </thead>\n",
       "  <tbody>\n",
       "    <tr>\n",
       "      <th>0</th>\n",
       "      <td>stock</td>\n",
       "      <td>100.000000</td>\n",
       "      <td>$14811.000000000002</td>\n",
       "    </tr>\n",
       "    <tr>\n",
       "      <th>1</th>\n",
       "      <td>futures</td>\n",
       "      <td>0.358043</td>\n",
       "      <td>$17844.351334015057</td>\n",
       "    </tr>\n",
       "  </tbody>\n",
       "</table>\n",
       "</div>"
      ],
      "text/plain": [
       "  Instrument         Qty                Value\n",
       "0      stock  100.000000  $14811.000000000002\n",
       "1    futures    0.358043  $17844.351334015057"
      ]
     },
     "execution_count": 270,
     "metadata": {},
     "output_type": "execute_result"
    }
   ],
   "source": [
    "msft.portfolio()"
   ]
  },
  {
   "cell_type": "code",
   "execution_count": 302,
   "metadata": {},
   "outputs": [
    {
     "name": "stdout",
     "output_type": "stream",
     "text": [
      "           Date  1 Mo  2 Mo  3 Mo  4 Mo  6 Mo  1 Yr  2 Yr  3 Yr  5 Yr  7 Yr  \\\n",
      "0    11/18/2022  3.93  4.23  4.34  4.46  4.61  4.74  4.51  4.28  3.99  3.92   \n",
      "1    11/17/2022  3.93  4.20  4.32  4.44  4.57  4.68  4.43  4.22  3.93  3.87   \n",
      "2    11/16/2022  3.81  4.15  4.32  4.43  4.54  4.62  4.35  4.13  3.83  3.77   \n",
      "3    11/15/2022  3.77  4.10  4.31  4.40  4.54  4.60  4.37  4.17  3.93  3.88   \n",
      "4    11/14/2022  3.72  4.05  4.34  4.38  4.55  4.63  4.40  4.24  4.00  3.95   \n",
      "..          ...   ...   ...   ...   ...   ...   ...   ...   ...   ...   ...   \n",
      "216    1/7/2022  0.05  0.05  0.10   NaN  0.24  0.43  0.87  1.17  1.50  1.69   \n",
      "217    1/6/2022  0.04  0.05  0.10   NaN  0.23  0.45  0.88  1.15  1.47  1.66   \n",
      "218    1/5/2022  0.05  0.06  0.09   NaN  0.22  0.41  0.83  1.10  1.43  1.62   \n",
      "219    1/4/2022  0.06  0.05  0.08   NaN  0.22  0.38  0.77  1.02  1.37  1.57   \n",
      "220    1/3/2022  0.05  0.06  0.08   NaN  0.22  0.40  0.78  1.04  1.37  1.55   \n",
      "\n",
      "     10 Yr  20 Yr  30 Yr  \n",
      "0     3.82   4.13   3.92  \n",
      "1     3.77   4.10   3.89  \n",
      "2     3.67   4.03   3.85  \n",
      "3     3.80   4.20   3.98  \n",
      "4     3.88   4.28   4.07  \n",
      "..     ...    ...    ...  \n",
      "216   1.76   2.15   2.11  \n",
      "217   1.73   2.12   2.09  \n",
      "218   1.71   2.12   2.09  \n",
      "219   1.66   2.10   2.07  \n",
      "220   1.63   2.05   2.01  \n",
      "\n",
      "[221 rows x 14 columns]\n",
      "           Date  1 Mo  2 Mo  3 Mo  4 Mo  6 Mo  1 Yr  2 Yr  3 Yr  5 Yr  7 Yr  \\\n",
      "0    11/18/2022  3.93  4.23  4.34  4.46  4.61  4.74  4.51  4.28  3.99  3.92   \n",
      "1    11/17/2022  3.93  4.20  4.32  4.44  4.57  4.68  4.43  4.22  3.93  3.87   \n",
      "2    11/16/2022  3.81  4.15  4.32  4.43  4.54  4.62  4.35  4.13  3.83  3.77   \n",
      "3    11/15/2022  3.77  4.10  4.31  4.40  4.54  4.60  4.37  4.17  3.93  3.88   \n",
      "4    11/14/2022  3.72  4.05  4.34  4.38  4.55  4.63  4.40  4.24  4.00  3.95   \n",
      "..          ...   ...   ...   ...   ...   ...   ...   ...   ...   ...   ...   \n",
      "216    1/7/2022  0.05  0.05  0.10   NaN  0.24  0.43  0.87  1.17  1.50  1.69   \n",
      "217    1/6/2022  0.04  0.05  0.10   NaN  0.23  0.45  0.88  1.15  1.47  1.66   \n",
      "218    1/5/2022  0.05  0.06  0.09   NaN  0.22  0.41  0.83  1.10  1.43  1.62   \n",
      "219    1/4/2022  0.06  0.05  0.08   NaN  0.22  0.38  0.77  1.02  1.37  1.57   \n",
      "220    1/3/2022  0.05  0.06  0.08   NaN  0.22  0.40  0.78  1.04  1.37  1.55   \n",
      "\n",
      "     10 Yr  20 Yr  30 Yr  \n",
      "0     3.82   4.13   3.92  \n",
      "1     3.77   4.10   3.89  \n",
      "2     3.67   4.03   3.85  \n",
      "3     3.80   4.20   3.98  \n",
      "4     3.88   4.28   4.07  \n",
      "..     ...    ...    ...  \n",
      "216   1.76   2.15   2.11  \n",
      "217   1.73   2.12   2.09  \n",
      "218   1.71   2.12   2.09  \n",
      "219   1.66   2.10   2.07  \n",
      "220   1.63   2.05   2.01  \n",
      "\n",
      "[221 rows x 14 columns]\n"
     ]
    },
    {
     "data": {
      "text/plain": [
       "-52.20065817349714"
      ]
     },
     "execution_count": 302,
     "metadata": {},
     "output_type": "execute_result"
    }
   ],
   "source": [
    "msft.basis_risk()"
   ]
  },
  {
   "cell_type": "code",
   "execution_count": 295,
   "metadata": {},
   "outputs": [
    {
     "name": "stdout",
     "output_type": "stream",
     "text": [
      "           Date  1 Mo  2 Mo  3 Mo  4 Mo  6 Mo  1 Yr  2 Yr  3 Yr  5 Yr  7 Yr  \\\n",
      "0    11/18/2022  3.93  4.23  4.34  4.46  4.61  4.74  4.51  4.28  3.99  3.92   \n",
      "1    11/17/2022  3.93  4.20  4.32  4.44  4.57  4.68  4.43  4.22  3.93  3.87   \n",
      "2    11/16/2022  3.81  4.15  4.32  4.43  4.54  4.62  4.35  4.13  3.83  3.77   \n",
      "3    11/15/2022  3.77  4.10  4.31  4.40  4.54  4.60  4.37  4.17  3.93  3.88   \n",
      "4    11/14/2022  3.72  4.05  4.34  4.38  4.55  4.63  4.40  4.24  4.00  3.95   \n",
      "..          ...   ...   ...   ...   ...   ...   ...   ...   ...   ...   ...   \n",
      "216    1/7/2022  0.05  0.05  0.10   NaN  0.24  0.43  0.87  1.17  1.50  1.69   \n",
      "217    1/6/2022  0.04  0.05  0.10   NaN  0.23  0.45  0.88  1.15  1.47  1.66   \n",
      "218    1/5/2022  0.05  0.06  0.09   NaN  0.22  0.41  0.83  1.10  1.43  1.62   \n",
      "219    1/4/2022  0.06  0.05  0.08   NaN  0.22  0.38  0.77  1.02  1.37  1.57   \n",
      "220    1/3/2022  0.05  0.06  0.08   NaN  0.22  0.40  0.78  1.04  1.37  1.55   \n",
      "\n",
      "     10 Yr  20 Yr  30 Yr  \n",
      "0     3.82   4.13   3.92  \n",
      "1     3.77   4.10   3.89  \n",
      "2     3.67   4.03   3.85  \n",
      "3     3.80   4.20   3.98  \n",
      "4     3.88   4.28   4.07  \n",
      "..     ...    ...    ...  \n",
      "216   1.76   2.15   2.11  \n",
      "217   1.73   2.12   2.09  \n",
      "218   1.71   2.12   2.09  \n",
      "219   1.66   2.10   2.07  \n",
      "220   1.63   2.05   2.01  \n",
      "\n",
      "[221 rows x 14 columns]\n"
     ]
    },
    {
     "data": {
      "text/plain": [
       "249.94831131593375"
      ]
     },
     "execution_count": 295,
     "metadata": {},
     "output_type": "execute_result"
    }
   ],
   "source": [
    "msft.pricing(msft.year_time,msft.spot_price)\n"
   ]
  },
  {
   "cell_type": "code",
   "execution_count": 263,
   "metadata": {},
   "outputs": [
    {
     "data": {
      "text/plain": [
       "83282.14009875101"
      ]
     },
     "execution_count": 263,
     "metadata": {},
     "output_type": "execute_result"
    }
   ],
   "source": [
    "msft.pricing(msft.year_time,msft.spot_price)"
   ]
  },
  {
   "cell_type": "code",
   "execution_count": 271,
   "metadata": {},
   "outputs": [
    {
     "name": "stdout",
     "output_type": "stream",
     "text": [
      "           Date  1 Mo  2 Mo  3 Mo  4 Mo  6 Mo  1 Yr  2 Yr  3 Yr  5 Yr  7 Yr  \\\n",
      "0    11/18/2022  3.93  4.23  4.34  4.46  4.61  4.74  4.51  4.28  3.99  3.92   \n",
      "1    11/17/2022  3.93  4.20  4.32  4.44  4.57  4.68  4.43  4.22  3.93  3.87   \n",
      "2    11/16/2022  3.81  4.15  4.32  4.43  4.54  4.62  4.35  4.13  3.83  3.77   \n",
      "3    11/15/2022  3.77  4.10  4.31  4.40  4.54  4.60  4.37  4.17  3.93  3.88   \n",
      "4    11/14/2022  3.72  4.05  4.34  4.38  4.55  4.63  4.40  4.24  4.00  3.95   \n",
      "..          ...   ...   ...   ...   ...   ...   ...   ...   ...   ...   ...   \n",
      "216    1/7/2022  0.05  0.05  0.10   NaN  0.24  0.43  0.87  1.17  1.50  1.69   \n",
      "217    1/6/2022  0.04  0.05  0.10   NaN  0.23  0.45  0.88  1.15  1.47  1.66   \n",
      "218    1/5/2022  0.05  0.06  0.09   NaN  0.22  0.41  0.83  1.10  1.43  1.62   \n",
      "219    1/4/2022  0.06  0.05  0.08   NaN  0.22  0.38  0.77  1.02  1.37  1.57   \n",
      "220    1/3/2022  0.05  0.06  0.08   NaN  0.22  0.40  0.78  1.04  1.37  1.55   \n",
      "\n",
      "     10 Yr  20 Yr  30 Yr  \n",
      "0     3.82   4.13   3.92  \n",
      "1     3.77   4.10   3.89  \n",
      "2     3.67   4.03   3.85  \n",
      "3     3.80   4.20   3.98  \n",
      "4     3.88   4.28   4.07  \n",
      "..     ...    ...    ...  \n",
      "216   1.76   2.15   2.11  \n",
      "217   1.73   2.12   2.09  \n",
      "218   1.71   2.12   2.09  \n",
      "219   1.66   2.10   2.07  \n",
      "220   1.63   2.05   2.01  \n",
      "\n",
      "[221 rows x 14 columns]\n"
     ]
    },
    {
     "data": {
      "text/plain": [
       "1.2135393690366656"
      ]
     },
     "execution_count": 271,
     "metadata": {},
     "output_type": "execute_result"
    }
   ],
   "source": [
    "msft.risk_free_rate()"
   ]
  },
  {
   "cell_type": "code",
   "execution_count": null,
   "metadata": {},
   "outputs": [],
   "source": []
  }
 ],
 "metadata": {
  "kernelspec": {
   "display_name": "Python 3 (ipykernel)",
   "language": "python",
   "name": "python3"
  },
  "language_info": {
   "codemirror_mode": {
    "name": "ipython",
    "version": 3
   },
   "file_extension": ".py",
   "mimetype": "text/x-python",
   "name": "python",
   "nbconvert_exporter": "python",
   "pygments_lexer": "ipython3",
   "version": "3.9.13"
  }
 },
 "nbformat": 4,
 "nbformat_minor": 1
}
