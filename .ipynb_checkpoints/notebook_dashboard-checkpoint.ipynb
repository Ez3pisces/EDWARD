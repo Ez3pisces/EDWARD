{
 "cells": [
  {
   "cell_type": "code",
   "execution_count": 708,
   "metadata": {},
   "outputs": [],
   "source": [
    "\n",
    "from datetime import datetime  # calculating time until expiration\n",
    "import numpy as np  # performing numerical methods\n",
    "import pandas as pd  # printing dataframes\n",
    "import yfinance as yf # retrieving financial data"
   ]
  },
  {
   "cell_type": "code",
   "execution_count": 716,
   "metadata": {},
   "outputs": [],
   "source": [
    "\n",
    "# parent/super class\n",
    "\"\"\"\n",
    "Pricing of stock futures and construction of a portfolio containing both underlying equity\n",
    "and futures as a hedge.\n",
    "\n",
    "Attributes\n",
    "++++++++++++++++++++++++++++++++++++++++++++++++++++++++++++++++\n",
    "\n",
    "ticker: str\n",
    "    ticker of underlying stock\n",
    "\n",
    "spot_price: float\n",
    "    spot price of underlying stock, in united states dollars $\n",
    "\n",
    "initial_time: str\n",
    "    current date\n",
    "\n",
    "final_time: str\n",
    "    expiration date\n",
    "\n",
    "dividend: float\n",
    "    dividend yield, in percentage %, default = 0.00%\n",
    "\n",
    "risk_tolerance: float\n",
    "    risk tolerance, in percentage %, default = 0.00%\n",
    "\n",
    "cap: float\n",
    "    user capital, in united states dollars $, default = $10,000\n",
    "\n",
    "shares: float\n",
    "    user position in underlying stock, in united states dollars $, default = 100 * s\n",
    "year_time: date\n",
    "    proportion of diff in time \n",
    "liquid: float\n",
    "    Liquid/capital money (user inputted)\n",
    "    \n",
    "\n",
    "\"\"\"\n",
    "\n",
    "class Edward_Dashboard:\n",
    "    def __init__(self, ticker: str, final_time: str, r_tol: float = 0.00,liquid: float=1000, cap: float = 10000, shares: float = 100):\n",
    "        assert (1 <= len(ticker) <= 5),  'ticker symbol must have between one and five characters'\n",
    "        assert r_tol >= 0, 'risk tolerance cannot be less than 0.00%'\n",
    "        assert cap >= 10000,  'user must have at least $10,000 in capital'\n",
    "        assert shares >= 0.00, 'user must have at least 100 shares in underlying equity'\n",
    "        self.ticker_symbol = ticker.upper()\n",
    "        # ticker symbol(user inputted )\n",
    "        self.ticker = yf.Ticker(ticker.upper()).info\n",
    "        self.tickerObj =yf.Ticker(ticker.upper())\n",
    "        # spot price\n",
    "        s = float(self.ticker['regularMarketPrice'])\n",
    "        assert s >= 0.00,  'stock price cannot be less than $0.00, cannot use this stock'\n",
    "        self.spot_price = s\n",
    "    \n",
    "        # intial time(not user inputted )\n",
    "        current_date = datetime.now()\n",
    "        time = f\"{current_date.year}-{current_date.month}-{current_date.day}\"\n",
    "        self.initial_time = datetime.strptime(time, \"%Y-%m-%d\")\n",
    "        # final time(user inputted)\n",
    "        self.final_time = datetime.strptime(final_time, \"%Y-%m-%d\")\n",
    "        # porpotion of diff in time\n",
    "        print(self.final_time- self.initial_time)\n",
    "        self.year_time = (self.final_time - self.initial_time).days/365\n",
    "        # risk tolerance\n",
    "        self.risk_tolerance = float(r_tol)\n",
    "        # liquid/captial money(user inputted)\n",
    "        self.liquid = float(liquid)\n",
    "        # total value of shares (user inputted)\n",
    "        self.shares = float(shares * self.spot_price)\n",
    "        #total capital\n",
    "        self.cap = float(cap)\n",
    "    def get_historical_data(self):\n",
    "        temp_csv_str = f\"{self.ticker_symbol}.csv\"\n",
    "        temp_csv = self.tickerObj.history(period =\"max\").to_csv(temp_csv_str)\n",
    "        new_history_df = pd.read_csv(temp_csv_str)\n",
    "        historical_data_close= new_history_df[[\"Date\",\"Close\"]]\n",
    "        return historical_data_close\n",
    "    def div_rate(self):\n",
    "        #this is the dividend rate from the info of the function\n",
    "        #this is the dividend rate from the most recent year\n",
    "        dividend_list = self.tickerObj.dividends.to_list()\n",
    "        if len(dividend_list) != 0:\n",
    "            return dividend_list[-1]\n",
    "        \n",
    "    def risk_free_rate(self): # calculate risk-free rate of return\n",
    "        rates = pd.read_csv('rates.csv')\n",
    "\n",
    "        if 0 < self.year_time <= 1 / 12:\n",
    "            nominal = rates['1 Mo'].mean()\n",
    "        elif 1 / 12 < self.year_time <= 1 / 6:\n",
    "            nominal = rates['2 Mo'].mean()\n",
    "        elif 1 / 6 < self.year_time <= 1 / 4:\n",
    "            nominal = rates['3 Mo'].mean()\n",
    "        elif 1 / 4 < self.year_time <= 1 / 3:\n",
    "            nominal = rates['4 Mo'].mean()\n",
    "        elif 1 / 3 < self.year_time <= 1 / 2:\n",
    "            nominal = rates['6 Mo'].mean()\n",
    "        elif 1 /  2 < self.year_time <= 1:\n",
    "            nominal = rates['1 Yr'].mean()\n",
    "        elif 1 < self.year_time<= 2:\n",
    "            nominal = rates['2 Yr'].mean()\n",
    "        elif 2 < self.year_time <= 3:\n",
    "            nominal = rates['3 Yr'].mean()\n",
    "        elif 3 < self.year_time <= 5:\n",
    "            nominal = rates['5 Yr'].mean()\n",
    "        elif 5 < self.year_time <= 7:\n",
    "            nominal = rates['7 Yr'].mean()\n",
    "        elif 7 < self.year_time <= 10:\n",
    "            nominal = rates['10 Yr'].mean()\n",
    "        elif 10 < self.year_time <= 20:\n",
    "            nominal = rates['20 Yr'].mean()\n",
    "        elif 20 < self.year_time <= 30:\n",
    "            nominal = rates['30 Yr'].mean()\n",
    "\n",
    "        return (1 + nominal) / (1 + 0.077) - 1\n",
    "\n",
    "    def benchmark_rate(self): # calculate performance of a benchmark\n",
    "        # set the S&P as the default benchmark\n",
    "        gspc = yf.Ticker('^GSPC').info\n",
    "        \n",
    "        #initial time time - (difference)\n",
    "        print(type((self.final_time - self.initial_time)))\n",
    "        '''print(self.initial_time - (self.year_time * 365))\n",
    "        hist_table = yf.download(gspc, self.initial_time-(self.year_time*365))['Adj Close']\n",
    "        hist_s = hist_table.loc[self.initial_time-(self.year_time*365)][gspc]\n",
    "        benchmark_rate = abs(gspc['regularMarketPrice']- hist_s)/hist_s\n",
    "        return benchmark_rate'''\n",
    "\n",
    "    def pricing(self,time:float  = 1/52, price: float = .050): # pricing of a singular futures contract on underlying equity\n",
    "        if self.div_rate() is None:\n",
    "            div_rate = 0\n",
    "        else:\n",
    "            div_rate = self.div_rate()\n",
    "            \n",
    "        return 100 * price * np.e**(self.risk_free_rate() - (div_rate*time))\n",
    "\n",
    "    def beta(self): # covariance function\n",
    "        #get the historical data beginning to end\n",
    "        historical_data = self.get_historical_data()\n",
    "        hist_price = [price for price in historical_data[\"Close\"]]\n",
    "        future_price = []\n",
    "        for i in range(len(hist_price)):\n",
    "            future_price.append(self.pricing(time = 1/52, price = hist_price[i]))\n",
    "        return np.cov(hist_price,future_price)[0,1]\n",
    "            \n",
    "\n",
    "\n",
    "    def expected_return(self): # calculate the expected return (w/ respect to a benchmark)\n",
    "        return float(self.risk_free_rate() + self.beta()*(self.benchmark_rate() - self.risk_free_rate()))\n",
    "\n",
    "    def n(self): # calculate the ideal number of futures contracts on the underlying equity\n",
    "        return float(self.beta() * self.shares / self.pricing(1/52,self.spot_price))\n",
    "\n",
    "    def portfolio(self): # construct an ideal portfolio, containing the user's existing\n",
    "        # position in the underlying equity and n futures contracts\n",
    "        data = [(\"stock\", self.shares / self.spot_price, \"$\" + str(self.shares)),\n",
    "                    (\"futures\", self.n(), \"$\" + str(self.n() * self.pricing(1/52,self.spot_price)))]\n",
    "\n",
    "        portfolio = pd.DataFrame(data, columns = [\"Instrument\", \" Qty\", \"Value\"])\n",
    "\n",
    "        return portfolio\n",
    "\n",
    "    def basis_risk(self): # calculate basis risk of portfolio\n",
    "        return float(self.n() * (self.spot_price - self.pricing(1/52,self.spot_price)))\n",
    "\n",
    "    def metrics(self): # calculate performance & risk metric of portfolio\n",
    "        \"\"\"\"\n",
    "            add implementation\n",
    "        \"\"\"\n",
    "        pass;\n",
    "\n",
    "    def _str_(self):\n",
    "        return f\"risk-free-rate{self.risk_free_rate()}, benchmark rate {self.benchmark_rate()}, pricing {self.pricing(1/52,self.spot_price)}, beta {self.beta()}, expect_return {self.expected_return()}, number of future contracts (100 share per contract) {self.n()}, protfolio {self.portfolio()}, basis risk {self.basis_risk()}, metrics {self.metrics()}\"\n",
    "        pass\n",
    "\n"
   ]
  },
  {
   "cell_type": "code",
   "execution_count": 717,
   "metadata": {},
   "outputs": [],
   "source": [
    "#practicing with microsoft stock \n",
    " #stock1 = Edward_Dashboard(\"MSFT\", s: float,  tf: str, tol: float = 0.00, cap: float = 10000, shares: float = 100)\n"
   ]
  },
  {
   "cell_type": "code",
   "execution_count": null,
   "metadata": {},
   "outputs": [],
   "source": []
  },
  {
   "cell_type": "code",
   "execution_count": 718,
   "metadata": {},
   "outputs": [
    {
     "name": "stdout",
     "output_type": "stream",
     "text": [
      "1 day, 0:00:00\n"
     ]
    }
   ],
   "source": [
    "msft= Edward_Dashboard(\"msft\",\"2022-11-27\",300)\n"
   ]
  },
  {
   "cell_type": "code",
   "execution_count": null,
   "metadata": {},
   "outputs": [],
   "source": []
  },
  {
   "cell_type": "code",
   "execution_count": 687,
   "metadata": {},
   "outputs": [
    {
     "data": {
      "text/plain": [
       "'MSFT'"
      ]
     },
     "execution_count": 687,
     "metadata": {},
     "output_type": "execute_result"
    }
   ],
   "source": [
    "msft.ticker_symbol"
   ]
  },
  {
   "cell_type": "code",
   "execution_count": 688,
   "metadata": {},
   "outputs": [
    {
     "data": {
      "text/plain": [
       "yfinance.Ticker object <MSFT>"
      ]
     },
     "execution_count": 688,
     "metadata": {},
     "output_type": "execute_result"
    }
   ],
   "source": [
    "msft.tickerObj"
   ]
  },
  {
   "cell_type": "code",
   "execution_count": 689,
   "metadata": {},
   "outputs": [
    {
     "data": {
      "text/plain": [
       "{'zip': '98052-6399',\n",
       " 'sector': 'Technology',\n",
       " 'fullTimeEmployees': 221000,\n",
       " 'longBusinessSummary': 'Microsoft Corporation develops, licenses, and supports software, services, devices, and solutions worldwide. The company operates in three segments: Productivity and Business Processes, Intelligent Cloud, and More Personal Computing. The Productivity and Business Processes segment offers Office, Exchange, SharePoint, Microsoft Teams, Office 365 Security and Compliance, Microsoft Viva, and Skype for Business; Skype, Outlook.com, OneDrive, and LinkedIn; and Dynamics 365, a set of cloud-based and on-premises business solutions for organizations and enterprise divisions. The Intelligent Cloud segment licenses SQL, Windows Servers, Visual Studio, System Center, and related Client Access Licenses; GitHub that provides a collaboration platform and code hosting service for developers; Nuance provides healthcare and enterprise AI solutions; and Azure, a cloud platform. It also offers enterprise support, Microsoft consulting, and nuance professional services to assist customers in developing, deploying, and managing Microsoft server and desktop solutions; and training and certification on Microsoft products. The More Personal Computing segment provides Windows original equipment manufacturer (OEM) licensing and other non-volume licensing of the Windows operating system; Windows Commercial, such as volume licensing of the Windows operating system, Windows cloud services, and other Windows commercial offerings; patent licensing; and Windows Internet of Things. It also offers Surface, PC accessories, PCs, tablets, gaming and entertainment consoles, and other devices; Gaming, including Xbox hardware, and Xbox content and services; video games and third-party video game royalties; and Search, including Bing and Microsoft advertising. The company sells its products through OEMs, distributors, and resellers; and directly through digital marketplaces, online stores, and retail stores. Microsoft Corporation was founded in 1975 and is headquartered in Redmond, Washington.',\n",
       " 'city': 'Redmond',\n",
       " 'phone': '425 882 8080',\n",
       " 'state': 'WA',\n",
       " 'country': 'United States',\n",
       " 'companyOfficers': [],\n",
       " 'website': 'https://www.microsoft.com',\n",
       " 'maxAge': 1,\n",
       " 'address1': 'One Microsoft Way',\n",
       " 'fax': '425 706 7329',\n",
       " 'industry': 'Software—Infrastructure',\n",
       " 'ebitdaMargins': 0.48672,\n",
       " 'profitMargins': 0.34366,\n",
       " 'grossMargins': 0.6826,\n",
       " 'operatingCashflow': 87693000704,\n",
       " 'revenueGrowth': 0.106,\n",
       " 'operatingMargins': 0.41691002,\n",
       " 'ebitda': 98841001984,\n",
       " 'targetLowPrice': 234,\n",
       " 'recommendationKey': 'buy',\n",
       " 'grossProfits': 135620000000,\n",
       " 'freeCashflow': 46155874304,\n",
       " 'targetMedianPrice': 290,\n",
       " 'currentPrice': 247.49,\n",
       " 'earningsGrowth': -0.133,\n",
       " 'currentRatio': 1.84,\n",
       " 'returnOnAssets': 0.15223,\n",
       " 'numberOfAnalystOpinions': 45,\n",
       " 'targetMeanPrice': 296.91,\n",
       " 'debtToEquity': 44.442,\n",
       " 'returnOnEquity': 0.42875,\n",
       " 'targetHighPrice': 411,\n",
       " 'totalCash': 107244003328,\n",
       " 'totalDebt': 77136003072,\n",
       " 'totalRevenue': 203074994176,\n",
       " 'totalCashPerShare': 14.387,\n",
       " 'financialCurrency': 'USD',\n",
       " 'revenuePerShare': 27.142,\n",
       " 'quickRatio': 1.585,\n",
       " 'recommendationMean': 1.8,\n",
       " 'exchange': 'NMS',\n",
       " 'shortName': 'Microsoft Corporation',\n",
       " 'longName': 'Microsoft Corporation',\n",
       " 'exchangeTimezoneName': 'America/New_York',\n",
       " 'exchangeTimezoneShortName': 'EST',\n",
       " 'isEsgPopulated': False,\n",
       " 'gmtOffSetMilliseconds': '-18000000',\n",
       " 'quoteType': 'EQUITY',\n",
       " 'symbol': 'MSFT',\n",
       " 'messageBoardId': 'finmb_21835',\n",
       " 'market': 'us_market',\n",
       " 'annualHoldingsTurnover': None,\n",
       " 'enterpriseToRevenue': 8.937,\n",
       " 'beta3Year': None,\n",
       " 'enterpriseToEbitda': 18.361,\n",
       " '52WeekChange': -0.26480114,\n",
       " 'morningStarRiskRating': None,\n",
       " 'forwardEps': 11.18,\n",
       " 'revenueQuarterlyGrowth': None,\n",
       " 'sharesOutstanding': 7454470144,\n",
       " 'fundInceptionDate': None,\n",
       " 'annualReportExpenseRatio': None,\n",
       " 'totalAssets': None,\n",
       " 'bookValue': 23.276,\n",
       " 'sharesShort': 34590231,\n",
       " 'sharesPercentSharesOut': 0.0046,\n",
       " 'fundFamily': None,\n",
       " 'lastFiscalYearEnd': 1656547200,\n",
       " 'heldPercentInstitutions': 0.72239,\n",
       " 'netIncomeToCommon': 69788999680,\n",
       " 'trailingEps': 9.29,\n",
       " 'lastDividendValue': 0.68,\n",
       " 'SandP52WeekChange': -0.13514793,\n",
       " 'priceToBook': 10.632841,\n",
       " 'heldPercentInsiders': 0.00059999997,\n",
       " 'nextFiscalYearEnd': 1719705600,\n",
       " 'yield': None,\n",
       " 'mostRecentQuarter': 1664496000,\n",
       " 'shortRatio': 1.01,\n",
       " 'sharesShortPreviousMonthDate': 1665705600,\n",
       " 'floatShares': 7447913208,\n",
       " 'beta': 0.91984,\n",
       " 'enterpriseValue': 1814799581184,\n",
       " 'priceHint': 2,\n",
       " 'threeYearAverageReturn': None,\n",
       " 'lastSplitDate': 1045526400,\n",
       " 'lastSplitFactor': '2:1',\n",
       " 'legalType': None,\n",
       " 'lastDividendDate': 1668556800,\n",
       " 'morningStarOverallRating': None,\n",
       " 'earningsQuarterlyGrowth': -0.144,\n",
       " 'priceToSalesTrailing12Months': 9.084855,\n",
       " 'dateShortInterest': 1668470400,\n",
       " 'pegRatio': 1.99,\n",
       " 'ytdReturn': None,\n",
       " 'forwardPE': 22.136852,\n",
       " 'lastCapGain': None,\n",
       " 'shortPercentOfFloat': 0.0046,\n",
       " 'sharesShortPriorMonth': 38213792,\n",
       " 'impliedSharesOutstanding': 0,\n",
       " 'category': None,\n",
       " 'fiveYearAverageReturn': None,\n",
       " 'previousClose': 247.58,\n",
       " 'regularMarketOpen': 247.31,\n",
       " 'twoHundredDayAverage': 266.4075,\n",
       " 'trailingAnnualDividendYield': 0.01025931,\n",
       " 'payoutRatio': 0.26700002,\n",
       " 'volume24Hr': None,\n",
       " 'regularMarketDayHigh': 248.68,\n",
       " 'navPrice': None,\n",
       " 'averageDailyVolume10Day': 24669260,\n",
       " 'regularMarketPreviousClose': 247.58,\n",
       " 'fiftyDayAverage': 237.1652,\n",
       " 'trailingAnnualDividendRate': 2.54,\n",
       " 'open': 247.31,\n",
       " 'toCurrency': None,\n",
       " 'averageVolume10days': 24669260,\n",
       " 'expireDate': None,\n",
       " 'algorithm': None,\n",
       " 'dividendRate': 2.72,\n",
       " 'exDividendDate': 1668556800,\n",
       " 'circulatingSupply': None,\n",
       " 'startDate': None,\n",
       " 'regularMarketDayLow': 246.73,\n",
       " 'currency': 'USD',\n",
       " 'trailingPE': 26.640474,\n",
       " 'regularMarketVolume': 9200772,\n",
       " 'lastMarket': None,\n",
       " 'maxSupply': None,\n",
       " 'openInterest': None,\n",
       " 'marketCap': 1844906819584,\n",
       " 'volumeAllCurrencies': None,\n",
       " 'strikePrice': None,\n",
       " 'averageVolume': 29200223,\n",
       " 'dayLow': 246.73,\n",
       " 'ask': 247.68,\n",
       " 'askSize': 900,\n",
       " 'volume': 9200772,\n",
       " 'fiftyTwoWeekHigh': 344.3,\n",
       " 'fromCurrency': None,\n",
       " 'fiveYearAvgDividendYield': 1.18,\n",
       " 'fiftyTwoWeekLow': 213.43,\n",
       " 'bid': 247.45,\n",
       " 'tradeable': False,\n",
       " 'dividendYield': 0.011,\n",
       " 'bidSize': 1000,\n",
       " 'dayHigh': 248.68,\n",
       " 'coinMarketCapLink': None,\n",
       " 'regularMarketPrice': 247.49,\n",
       " 'preMarketPrice': None,\n",
       " 'logo_url': 'https://logo.clearbit.com/microsoft.com',\n",
       " 'trailingPegRatio': 2.1895}"
      ]
     },
     "execution_count": 689,
     "metadata": {},
     "output_type": "execute_result"
    }
   ],
   "source": [
    "msft.tickerObj.info"
   ]
  },
  {
   "cell_type": "code",
   "execution_count": 691,
   "metadata": {},
   "outputs": [],
   "source": [
    "current_date =datetime.now()"
   ]
  },
  {
   "cell_type": "code",
   "execution_count": 693,
   "metadata": {},
   "outputs": [
    {
     "data": {
      "text/plain": [
       "datetime.datetime(2022, 11, 26, 13, 53, 17, 383086)"
      ]
     },
     "execution_count": 693,
     "metadata": {},
     "output_type": "execute_result"
    }
   ],
   "source": [
    "current_date"
   ]
  },
  {
   "cell_type": "code",
   "execution_count": 694,
   "metadata": {},
   "outputs": [
    {
     "data": {
      "text/plain": [
       "2022"
      ]
     },
     "execution_count": 694,
     "metadata": {},
     "output_type": "execute_result"
    }
   ],
   "source": [
    "current_date.year"
   ]
  },
  {
   "cell_type": "code",
   "execution_count": 695,
   "metadata": {},
   "outputs": [
    {
     "data": {
      "text/plain": [
       "11"
      ]
     },
     "execution_count": 695,
     "metadata": {},
     "output_type": "execute_result"
    }
   ],
   "source": [
    "current_date.month"
   ]
  },
  {
   "cell_type": "code",
   "execution_count": 696,
   "metadata": {},
   "outputs": [
    {
     "data": {
      "text/plain": [
       "26"
      ]
     },
     "execution_count": 696,
     "metadata": {},
     "output_type": "execute_result"
    }
   ],
   "source": [
    "current_date.day"
   ]
  },
  {
   "cell_type": "code",
   "execution_count": 697,
   "metadata": {},
   "outputs": [
    {
     "data": {
      "text/plain": [
       "datetime.datetime(2022, 11, 26, 0, 0)"
      ]
     },
     "execution_count": 697,
     "metadata": {},
     "output_type": "execute_result"
    }
   ],
   "source": [
    "msft.initial_time"
   ]
  },
  {
   "cell_type": "code",
   "execution_count": 698,
   "metadata": {},
   "outputs": [
    {
     "data": {
      "text/plain": [
       "datetime.datetime(2022, 11, 27, 0, 0)"
      ]
     },
     "execution_count": 698,
     "metadata": {},
     "output_type": "execute_result"
    }
   ],
   "source": [
    "msft.final_time"
   ]
  },
  {
   "cell_type": "code",
   "execution_count": null,
   "metadata": {},
   "outputs": [],
   "source": []
  }
 ],
 "metadata": {
  "kernelspec": {
   "display_name": "Python 3 (ipykernel)",
   "language": "python",
   "name": "python3"
  },
  "language_info": {
   "codemirror_mode": {
    "name": "ipython",
    "version": 3
   },
   "file_extension": ".py",
   "mimetype": "text/x-python",
   "name": "python",
   "nbconvert_exporter": "python",
   "pygments_lexer": "ipython3",
   "version": "3.9.13"
  }
 },
 "nbformat": 4,
 "nbformat_minor": 1
}
